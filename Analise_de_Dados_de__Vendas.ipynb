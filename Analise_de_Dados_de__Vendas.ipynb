{
  "nbformat": 4,
  "nbformat_minor": 0,
  "metadata": {
    "colab": {
      "provenance": [],
      "authorship_tag": "ABX9TyN5fIbF8aJasH775nD06vgg",
      "include_colab_link": true
    },
    "kernelspec": {
      "name": "python3",
      "display_name": "Python 3"
    },
    "language_info": {
      "name": "python"
    }
  },
  "cells": [
    {
      "cell_type": "markdown",
      "metadata": {
        "id": "view-in-github",
        "colab_type": "text"
      },
      "source": [
        "<a href=\"https://colab.research.google.com/github/fmelomoraes/ProjetosPython/blob/main/Analise_de_Dados_de__Vendas.ipynb\" target=\"_parent\"><img src=\"https://colab.research.google.com/assets/colab-badge.svg\" alt=\"Open In Colab\"/></a>"
      ]
    },
    {
      "cell_type": "markdown",
      "source": [
        "## Análise de Dados de Vendas"
      ],
      "metadata": {
        "id": "Be6pwD1h_zqP"
      }
    },
    {
      "cell_type": "code",
      "execution_count": 13,
      "metadata": {
        "colab": {
          "base_uri": "https://localhost:8080/"
        },
        "id": "5uRKNHEA_q0M",
        "outputId": "b628a6fe-67ec-4f2f-f1a8-87679fb77a30"
      },
      "outputs": [
        {
          "output_type": "stream",
          "name": "stdout",
          "text": [
            "\n",
            "Média de Vendas: 225.00\n",
            "Dia de maior venda: 400\n",
            "Dia de menor venda: 100\n",
            "\n",
            "Gráfico de Vendas: \n",
            "Dia 1: ******************************************************************************************************************************************************\n",
            "Dia 2: ********************************************************************************************************************************************************************************************************\n",
            "Dia 3: ****************************************************************************************************\n",
            "Dia 4: **********************************************************************************************************************************************************************************************************************************************************\n",
            "Dia 5: ************************************************************************************************************************************************************************************************************************************************************************************************************\n",
            "Dia 6: ****************************************************************************************************************************************************************************************************************************************************************************************************************************************************************************************************************\n",
            "Dia 7: *******************************************************************************************************************************************************************************\n"
          ]
        }
      ],
      "source": [
        "def calcular_media(vendas):\n",
        "  return sum(vendas) / len(vendas) if vendas  else 0\n",
        "\n",
        "def dia_maior_venda(vendas):  return max(vendas)  if vendas  else None\n",
        "\n",
        "def dia_menor_venda(vendas):  return min(vendas)  if vendas  else None\n",
        "\n",
        "def grafico_blocos_vendas(vendas):\n",
        "    print(\"\\nGráfico de Vendas (Blocos):\")\n",
        "    for i, venda in enumerate(vendas):\n",
        "        blocos = venda // 10\n",
        "        print(f\"Dia {i + 1}: {'█' * blocos}\")\n",
        "\n",
        "\n",
        "def main():\n",
        "  vendas = [150, 200, 100, 250, 300, 400, 175]\n",
        "\n",
        "  lista_vendas(vendas)\n",
        "\n",
        "  media = calcular_media(vendas)\n",
        "  print(f\"\\nMédia de Vendas: {media:.2f}\")\n",
        "\n",
        "  maior_venda = dia_maior_venda(vendas)\n",
        "  print(f\"Dia de maior venda: {maior_venda}\")\n",
        "\n",
        "  menor_venda = dia_menor_venda(vendas)\n",
        "  print(f\"Dia de menor venda: {menor_venda}\")\n",
        "\n",
        "def calcular_media(vendas):\n",
        "  return sum(vendas) / len(vendas) if vendas else 0\n",
        "\n",
        "def dia_maior_venda(vendas):  return max(vendas)  if vendas  else None\n",
        "\n",
        "def dia_menor_venda(vendas):  return min(vendas)  if vendas  else None\n",
        "\n",
        "def grafico_vendas(vendas):\n",
        "  print(\"\\nGráfico de Vendas: \")\n",
        "  for i, venda in enumerate(vendas):\n",
        "    print(f\"Dia {i + 1}: {'*' * venda}\")\n",
        "\n",
        "\n",
        "def main():\n",
        "  vendas = [150, 200, 100, 250, 300, 400, 175]\n",
        "\n",
        "  media = calcular_media(vendas)\n",
        "  print(f\"\\nMédia de Vendas: {media:.2f}\")\n",
        "\n",
        "  maior_venda = dia_maior_venda(vendas)\n",
        "  print(f\"Dia de maior venda: {maior_venda}\")\n",
        "\n",
        "  menor_venda = dia_menor_venda(vendas)\n",
        "  print(f\"Dia de menor venda: {menor_venda}\")\n",
        "\n",
        "  grafico_vendas(vendas)\n",
        "\n",
        "if __name__==\"__main__\":\n",
        "    main()"
      ]
    },
    {
      "cell_type": "code",
      "source": [],
      "metadata": {
        "id": "QaZ359gHCPiZ"
      },
      "execution_count": null,
      "outputs": []
    }
  ]
}
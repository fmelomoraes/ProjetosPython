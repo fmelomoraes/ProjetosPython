{
  "nbformat": 4,
  "nbformat_minor": 0,
  "metadata": {
    "colab": {
      "provenance": [],
      "authorship_tag": "ABX9TyNVb3M7wwGZSC32DcTT5wW8"
    },
    "kernelspec": {
      "name": "python3",
      "display_name": "Python 3"
    },
    "language_info": {
      "name": "python"
    }
  },
  "cells": [
    {
      "cell_type": "markdown",
      "source": [
        "Projeto:\n",
        "## Analisador de Notas\n",
        "Esse programa recerá as notas dos alunos, irá calcular a média, identificar a maior e a menor, e determinará quantos alunos foram aprovados. Considerando uma nota mínima de aprovação."
      ],
      "metadata": {
        "id": "VSgSk_MnyTy-"
      }
    },
    {
      "cell_type": "code",
      "execution_count": null,
      "metadata": {
        "id": "5-YBHG4UyMYa"
      },
      "outputs": [],
      "source": [
        "notas = [7.5, 8.0, 5.5, 9.0, 4.5, 10.0, 7.0 ]\n",
        "\n",
        "media_das_notas = sum(notas) / len(notas)\n",
        "\n",
        "maior_nota = max(notas)\n",
        "menor_nota = min(notas)\n",
        "\n",
        "nota_para_aprovacao = 6.0\n",
        "alunos_aprovados = sum(nota >= nota_para_aprovacao for nota in notas)\n",
        "\n",
        "print(\"Notas dos alunos: \", notas)\n",
        "print(\"Média das notas: \", media_das_notas)\n",
        "print(\"Maior nota: \", maior_nota)\n",
        "print(\"Menor nota: \", menor_nota)\n",
        "print(\"Número de alunos aprovados: \", alunos_aprovados)\n",
        "\n",
        "\n"
      ]
    },
    {
      "cell_type": "code",
      "source": [
        "notas.append(9.4)\n",
        "\n",
        "print(notas)"
      ],
      "metadata": {
        "id": "MaMpgDb-1MCV"
      },
      "execution_count": null,
      "outputs": []
    },
    {
      "cell_type": "code",
      "source": [
        "num_notas = int(float(input(\"Quantas notas você quer adicionar? \")))\n",
        "\n",
        "for _ in range(num_notas):\n",
        "  nota = float(input(\"Digite a nota: \"))\n",
        "  notas.append(nota)\n",
        "\n",
        "print(\"Notas adicionadas: \", notas)"
      ],
      "metadata": {
        "id": "1j8kduff1wil",
        "collapsed": true
      },
      "execution_count": null,
      "outputs": []
    },
    {
      "cell_type": "markdown",
      "source": [
        "Aqui eu estou importando a biblioteca e preparando os dados.\n",
        "\n",
        "Obs. lembrando que já instalei o (pip install matplotlib)"
      ],
      "metadata": {
        "id": "NPH7PMaC4VVN"
      }
    },
    {
      "cell_type": "code",
      "source": [
        "import matplotlib.pyplot as plt\n",
        "\n",
        "notas = [7.5, 8.0, 5.5, 9.0, 4.5, 10.0, 7.0 ]\n",
        "\n",
        "indices = list(range(1, len(notas)+ 1))\n"
      ],
      "metadata": {
        "id": "o1OX6zuV2PPN"
      },
      "execution_count": 31,
      "outputs": []
    },
    {
      "cell_type": "markdown",
      "source": [
        "E vamos nós, rs\n",
        "-> Criando gráfico de barras."
      ],
      "metadata": {
        "id": "9xA9txNy5F-9"
      }
    },
    {
      "cell_type": "code",
      "source": [
        "plt.bar(indices, notas)\n",
        "\n",
        "plt.title('Notas dos Alunos')\n",
        "plt.xlabel('Aluno')\n",
        "plt.ylabel('Nota')\n",
        "\n",
        "plt.xticks(indices)\n",
        "\n",
        "plt.show()"
      ],
      "metadata": {
        "colab": {
          "base_uri": "https://localhost:8080/",
          "height": 472
        },
        "id": "slg2xvTI5Qjk",
        "outputId": "f4b7938d-521f-493e-acd4-7c1ba96eafd3"
      },
      "execution_count": 32,
      "outputs": [
        {
          "output_type": "display_data",
          "data": {
            "text/plain": [
              "<Figure size 640x480 with 1 Axes>"
            ],
            "image/png": "[encoded data removed]"
          },
          "metadata": {}
        }
      ]
    }
  ]
}